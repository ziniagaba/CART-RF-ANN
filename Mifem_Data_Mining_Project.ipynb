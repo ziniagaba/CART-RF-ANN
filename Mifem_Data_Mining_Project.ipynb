{
 "cells": [
  {
   "cell_type": "code",
   "execution_count": 546,
   "metadata": {},
   "outputs": [],
   "source": [
    "import numpy as np\n",
    "import pandas as pd\n",
    "import matplotlib.pyplot as plt\n",
    "import seaborn as sns\n",
    "from sklearn.tree import DecisionTreeClassifier\n",
    "import warnings\n",
    "warnings.filterwarnings('ignore')\n",
    "import os\n",
    "from sklearn.model_selection import train_test_split\n",
    "from sklearn.metrics import classification_report\n",
    "from sklearn.metrics import confusion_matrix\n",
    "from sklearn.neural_network import MLPClassifier\n",
    "import scipy.stats as stats"
   ]
  },
  {
   "cell_type": "code",
   "execution_count": 547,
   "metadata": {},
   "outputs": [],
   "source": [
    "os.getcwd()\n",
    "os.chdir('C:\\\\Users\\Zinia Gaba\\Desktop\\Great Learning Data Science\\Python All Files')"
   ]
  },
  {
   "cell_type": "code",
   "execution_count": 548,
   "metadata": {},
   "outputs": [],
   "source": [
    "df= pd.read_csv('mifem.csv')"
   ]
  },
  {
   "cell_type": "code",
   "execution_count": 549,
   "metadata": {},
   "outputs": [
    {
     "data": {
      "text/html": [
       "<div>\n",
       "<style scoped>\n",
       "    .dataframe tbody tr th:only-of-type {\n",
       "        vertical-align: middle;\n",
       "    }\n",
       "\n",
       "    .dataframe tbody tr th {\n",
       "        vertical-align: top;\n",
       "    }\n",
       "\n",
       "    .dataframe thead th {\n",
       "        text-align: right;\n",
       "    }\n",
       "</style>\n",
       "<table border=\"1\" class=\"dataframe\">\n",
       "  <thead>\n",
       "    <tr style=\"text-align: right;\">\n",
       "      <th></th>\n",
       "      <th>Unnamed: 0</th>\n",
       "      <th>outcome</th>\n",
       "      <th>age</th>\n",
       "      <th>yronset</th>\n",
       "      <th>premi</th>\n",
       "      <th>smstat</th>\n",
       "      <th>diabetes</th>\n",
       "      <th>highbp</th>\n",
       "      <th>hichol</th>\n",
       "      <th>angina</th>\n",
       "      <th>stroke</th>\n",
       "    </tr>\n",
       "  </thead>\n",
       "  <tbody>\n",
       "    <tr>\n",
       "      <th>0</th>\n",
       "      <td>0</td>\n",
       "      <td>live</td>\n",
       "      <td>63</td>\n",
       "      <td>85</td>\n",
       "      <td>n</td>\n",
       "      <td>x</td>\n",
       "      <td>n</td>\n",
       "      <td>y</td>\n",
       "      <td>y</td>\n",
       "      <td>n</td>\n",
       "      <td>n</td>\n",
       "    </tr>\n",
       "    <tr>\n",
       "      <th>1</th>\n",
       "      <td>1</td>\n",
       "      <td>live</td>\n",
       "      <td>55</td>\n",
       "      <td>85</td>\n",
       "      <td>n</td>\n",
       "      <td>c</td>\n",
       "      <td>n</td>\n",
       "      <td>y</td>\n",
       "      <td>y</td>\n",
       "      <td>n</td>\n",
       "      <td>n</td>\n",
       "    </tr>\n",
       "    <tr>\n",
       "      <th>2</th>\n",
       "      <td>2</td>\n",
       "      <td>live</td>\n",
       "      <td>68</td>\n",
       "      <td>85</td>\n",
       "      <td>y</td>\n",
       "      <td>nk</td>\n",
       "      <td>nk</td>\n",
       "      <td>y</td>\n",
       "      <td>y</td>\n",
       "      <td>y</td>\n",
       "      <td>n</td>\n",
       "    </tr>\n",
       "    <tr>\n",
       "      <th>3</th>\n",
       "      <td>3</td>\n",
       "      <td>live</td>\n",
       "      <td>64</td>\n",
       "      <td>85</td>\n",
       "      <td>n</td>\n",
       "      <td>x</td>\n",
       "      <td>n</td>\n",
       "      <td>y</td>\n",
       "      <td>n</td>\n",
       "      <td>y</td>\n",
       "      <td>n</td>\n",
       "    </tr>\n",
       "    <tr>\n",
       "      <th>4</th>\n",
       "      <td>4</td>\n",
       "      <td>dead</td>\n",
       "      <td>67</td>\n",
       "      <td>85</td>\n",
       "      <td>n</td>\n",
       "      <td>nk</td>\n",
       "      <td>nk</td>\n",
       "      <td>nk</td>\n",
       "      <td>y</td>\n",
       "      <td>nk</td>\n",
       "      <td>nk</td>\n",
       "    </tr>\n",
       "  </tbody>\n",
       "</table>\n",
       "</div>"
      ],
      "text/plain": [
       "   Unnamed: 0 outcome  age  yronset premi smstat diabetes highbp hichol  \\\n",
       "0           0    live   63       85     n      x        n      y      y   \n",
       "1           1    live   55       85     n      c        n      y      y   \n",
       "2           2    live   68       85     y     nk       nk      y      y   \n",
       "3           3    live   64       85     n      x        n      y      n   \n",
       "4           4    dead   67       85     n     nk       nk     nk      y   \n",
       "\n",
       "  angina stroke  \n",
       "0      n      n  \n",
       "1      n      n  \n",
       "2      y      n  \n",
       "3      y      n  \n",
       "4     nk     nk  "
      ]
     },
     "execution_count": 549,
     "metadata": {},
     "output_type": "execute_result"
    }
   ],
   "source": [
    "df.head()"
   ]
  },
  {
   "cell_type": "code",
   "execution_count": 550,
   "metadata": {},
   "outputs": [],
   "source": [
    "df.drop('Unnamed: 0', axis= 1, inplace = True)"
   ]
  },
  {
   "cell_type": "code",
   "execution_count": 551,
   "metadata": {},
   "outputs": [
    {
     "data": {
      "text/html": [
       "<div>\n",
       "<style scoped>\n",
       "    .dataframe tbody tr th:only-of-type {\n",
       "        vertical-align: middle;\n",
       "    }\n",
       "\n",
       "    .dataframe tbody tr th {\n",
       "        vertical-align: top;\n",
       "    }\n",
       "\n",
       "    .dataframe thead th {\n",
       "        text-align: right;\n",
       "    }\n",
       "</style>\n",
       "<table border=\"1\" class=\"dataframe\">\n",
       "  <thead>\n",
       "    <tr style=\"text-align: right;\">\n",
       "      <th></th>\n",
       "      <th>outcome</th>\n",
       "      <th>age</th>\n",
       "      <th>yronset</th>\n",
       "      <th>premi</th>\n",
       "      <th>smstat</th>\n",
       "      <th>diabetes</th>\n",
       "      <th>highbp</th>\n",
       "      <th>hichol</th>\n",
       "      <th>angina</th>\n",
       "      <th>stroke</th>\n",
       "    </tr>\n",
       "  </thead>\n",
       "  <tbody>\n",
       "    <tr>\n",
       "      <th>count</th>\n",
       "      <td>1295</td>\n",
       "      <td>1295.000000</td>\n",
       "      <td>1295.000000</td>\n",
       "      <td>1295</td>\n",
       "      <td>1295</td>\n",
       "      <td>1295</td>\n",
       "      <td>1295</td>\n",
       "      <td>1295</td>\n",
       "      <td>1295</td>\n",
       "      <td>1295</td>\n",
       "    </tr>\n",
       "    <tr>\n",
       "      <th>unique</th>\n",
       "      <td>2</td>\n",
       "      <td>NaN</td>\n",
       "      <td>NaN</td>\n",
       "      <td>3</td>\n",
       "      <td>4</td>\n",
       "      <td>3</td>\n",
       "      <td>3</td>\n",
       "      <td>2</td>\n",
       "      <td>3</td>\n",
       "      <td>3</td>\n",
       "    </tr>\n",
       "    <tr>\n",
       "      <th>top</th>\n",
       "      <td>live</td>\n",
       "      <td>NaN</td>\n",
       "      <td>NaN</td>\n",
       "      <td>n</td>\n",
       "      <td>n</td>\n",
       "      <td>n</td>\n",
       "      <td>y</td>\n",
       "      <td>n</td>\n",
       "      <td>n</td>\n",
       "      <td>n</td>\n",
       "    </tr>\n",
       "    <tr>\n",
       "      <th>freq</th>\n",
       "      <td>974</td>\n",
       "      <td>NaN</td>\n",
       "      <td>NaN</td>\n",
       "      <td>928</td>\n",
       "      <td>522</td>\n",
       "      <td>978</td>\n",
       "      <td>813</td>\n",
       "      <td>655</td>\n",
       "      <td>724</td>\n",
       "      <td>1063</td>\n",
       "    </tr>\n",
       "    <tr>\n",
       "      <th>mean</th>\n",
       "      <td>NaN</td>\n",
       "      <td>60.922008</td>\n",
       "      <td>88.785328</td>\n",
       "      <td>NaN</td>\n",
       "      <td>NaN</td>\n",
       "      <td>NaN</td>\n",
       "      <td>NaN</td>\n",
       "      <td>NaN</td>\n",
       "      <td>NaN</td>\n",
       "      <td>NaN</td>\n",
       "    </tr>\n",
       "    <tr>\n",
       "      <th>std</th>\n",
       "      <td>NaN</td>\n",
       "      <td>7.042327</td>\n",
       "      <td>2.553647</td>\n",
       "      <td>NaN</td>\n",
       "      <td>NaN</td>\n",
       "      <td>NaN</td>\n",
       "      <td>NaN</td>\n",
       "      <td>NaN</td>\n",
       "      <td>NaN</td>\n",
       "      <td>NaN</td>\n",
       "    </tr>\n",
       "    <tr>\n",
       "      <th>min</th>\n",
       "      <td>NaN</td>\n",
       "      <td>35.000000</td>\n",
       "      <td>85.000000</td>\n",
       "      <td>NaN</td>\n",
       "      <td>NaN</td>\n",
       "      <td>NaN</td>\n",
       "      <td>NaN</td>\n",
       "      <td>NaN</td>\n",
       "      <td>NaN</td>\n",
       "      <td>NaN</td>\n",
       "    </tr>\n",
       "    <tr>\n",
       "      <th>25%</th>\n",
       "      <td>NaN</td>\n",
       "      <td>57.000000</td>\n",
       "      <td>87.000000</td>\n",
       "      <td>NaN</td>\n",
       "      <td>NaN</td>\n",
       "      <td>NaN</td>\n",
       "      <td>NaN</td>\n",
       "      <td>NaN</td>\n",
       "      <td>NaN</td>\n",
       "      <td>NaN</td>\n",
       "    </tr>\n",
       "    <tr>\n",
       "      <th>50%</th>\n",
       "      <td>NaN</td>\n",
       "      <td>63.000000</td>\n",
       "      <td>89.000000</td>\n",
       "      <td>NaN</td>\n",
       "      <td>NaN</td>\n",
       "      <td>NaN</td>\n",
       "      <td>NaN</td>\n",
       "      <td>NaN</td>\n",
       "      <td>NaN</td>\n",
       "      <td>NaN</td>\n",
       "    </tr>\n",
       "    <tr>\n",
       "      <th>75%</th>\n",
       "      <td>NaN</td>\n",
       "      <td>66.000000</td>\n",
       "      <td>91.000000</td>\n",
       "      <td>NaN</td>\n",
       "      <td>NaN</td>\n",
       "      <td>NaN</td>\n",
       "      <td>NaN</td>\n",
       "      <td>NaN</td>\n",
       "      <td>NaN</td>\n",
       "      <td>NaN</td>\n",
       "    </tr>\n",
       "    <tr>\n",
       "      <th>max</th>\n",
       "      <td>NaN</td>\n",
       "      <td>69.000000</td>\n",
       "      <td>93.000000</td>\n",
       "      <td>NaN</td>\n",
       "      <td>NaN</td>\n",
       "      <td>NaN</td>\n",
       "      <td>NaN</td>\n",
       "      <td>NaN</td>\n",
       "      <td>NaN</td>\n",
       "      <td>NaN</td>\n",
       "    </tr>\n",
       "  </tbody>\n",
       "</table>\n",
       "</div>"
      ],
      "text/plain": [
       "       outcome          age      yronset premi smstat diabetes highbp hichol  \\\n",
       "count     1295  1295.000000  1295.000000  1295   1295     1295   1295   1295   \n",
       "unique       2          NaN          NaN     3      4        3      3      2   \n",
       "top       live          NaN          NaN     n      n        n      y      n   \n",
       "freq       974          NaN          NaN   928    522      978    813    655   \n",
       "mean       NaN    60.922008    88.785328   NaN    NaN      NaN    NaN    NaN   \n",
       "std        NaN     7.042327     2.553647   NaN    NaN      NaN    NaN    NaN   \n",
       "min        NaN    35.000000    85.000000   NaN    NaN      NaN    NaN    NaN   \n",
       "25%        NaN    57.000000    87.000000   NaN    NaN      NaN    NaN    NaN   \n",
       "50%        NaN    63.000000    89.000000   NaN    NaN      NaN    NaN    NaN   \n",
       "75%        NaN    66.000000    91.000000   NaN    NaN      NaN    NaN    NaN   \n",
       "max        NaN    69.000000    93.000000   NaN    NaN      NaN    NaN    NaN   \n",
       "\n",
       "       angina stroke  \n",
       "count    1295   1295  \n",
       "unique      3      3  \n",
       "top         n      n  \n",
       "freq      724   1063  \n",
       "mean      NaN    NaN  \n",
       "std       NaN    NaN  \n",
       "min       NaN    NaN  \n",
       "25%       NaN    NaN  \n",
       "50%       NaN    NaN  \n",
       "75%       NaN    NaN  \n",
       "max       NaN    NaN  "
      ]
     },
     "execution_count": 551,
     "metadata": {},
     "output_type": "execute_result"
    }
   ],
   "source": [
    "df.describe(include= 'all')"
   ]
  },
  {
   "cell_type": "code",
   "execution_count": 552,
   "metadata": {},
   "outputs": [
    {
     "data": {
      "text/plain": [
       "y     813\n",
       "n     406\n",
       "nk     76\n",
       "Name: highbp, dtype: int64"
      ]
     },
     "execution_count": 552,
     "metadata": {},
     "output_type": "execute_result"
    }
   ],
   "source": [
    "df['highbp'].value_counts()"
   ]
  },
  {
   "cell_type": "code",
   "execution_count": 553,
   "metadata": {},
   "outputs": [
    {
     "name": "stdout",
     "output_type": "stream",
     "text": [
      "live    974\n",
      "dead    321\n",
      "Name: outcome, dtype: int64\n",
      "69    111\n",
      "66    101\n",
      "68     96\n",
      "67     94\n",
      "65     93\n",
      "64     91\n",
      "63     84\n",
      "62     73\n",
      "61     72\n",
      "59     59\n",
      "60     51\n",
      "57     45\n",
      "55     41\n",
      "58     37\n",
      "56     32\n",
      "52     28\n",
      "53     25\n",
      "51     21\n",
      "54     19\n",
      "50     14\n",
      "49     13\n",
      "48     13\n",
      "45     12\n",
      "47     11\n",
      "46     11\n",
      "43     10\n",
      "44     10\n",
      "38      6\n",
      "41      5\n",
      "39      5\n",
      "42      4\n",
      "40      3\n",
      "35      3\n",
      "36      2\n",
      "Name: age, dtype: int64\n",
      "87    176\n",
      "89    160\n",
      "85    153\n",
      "86    150\n",
      "90    145\n",
      "93    141\n",
      "88    140\n",
      "91    123\n",
      "92    107\n",
      "Name: yronset, dtype: int64\n",
      "n     928\n",
      "y     311\n",
      "nk     56\n",
      "Name: premi, dtype: int64\n",
      "n     522\n",
      "c     390\n",
      "x     280\n",
      "nk    103\n",
      "Name: smstat, dtype: int64\n",
      "n     978\n",
      "y     248\n",
      "nk     69\n",
      "Name: diabetes, dtype: int64\n",
      "y     813\n",
      "n     406\n",
      "nk     76\n",
      "Name: highbp, dtype: int64\n",
      "n    655\n",
      "y    640\n",
      "Name: hichol, dtype: int64\n",
      "n     724\n",
      "y     472\n",
      "nk     99\n",
      "Name: angina, dtype: int64\n",
      "n     1063\n",
      "y      153\n",
      "nk      79\n",
      "Name: stroke, dtype: int64\n"
     ]
    }
   ],
   "source": [
    "df.head()\n",
    "z = df.columns\n",
    "for i in z:\n",
    "    print( df[i].value_counts())"
   ]
  },
  {
   "cell_type": "code",
   "execution_count": 554,
   "metadata": {},
   "outputs": [
    {
     "name": "stdout",
     "output_type": "stream",
     "text": [
      "<class 'pandas.core.frame.DataFrame'>\n",
      "RangeIndex: 1295 entries, 0 to 1294\n",
      "Data columns (total 10 columns):\n",
      " #   Column    Non-Null Count  Dtype \n",
      "---  ------    --------------  ----- \n",
      " 0   outcome   1295 non-null   object\n",
      " 1   age       1295 non-null   int64 \n",
      " 2   yronset   1295 non-null   int64 \n",
      " 3   premi     1295 non-null   object\n",
      " 4   smstat    1295 non-null   object\n",
      " 5   diabetes  1295 non-null   object\n",
      " 6   highbp    1295 non-null   object\n",
      " 7   hichol    1295 non-null   object\n",
      " 8   angina    1295 non-null   object\n",
      " 9   stroke    1295 non-null   object\n",
      "dtypes: int64(2), object(8)\n",
      "memory usage: 101.3+ KB\n"
     ]
    },
    {
     "data": {
      "text/html": [
       "<div>\n",
       "<style scoped>\n",
       "    .dataframe tbody tr th:only-of-type {\n",
       "        vertical-align: middle;\n",
       "    }\n",
       "\n",
       "    .dataframe tbody tr th {\n",
       "        vertical-align: top;\n",
       "    }\n",
       "\n",
       "    .dataframe thead th {\n",
       "        text-align: right;\n",
       "    }\n",
       "</style>\n",
       "<table border=\"1\" class=\"dataframe\">\n",
       "  <thead>\n",
       "    <tr style=\"text-align: right;\">\n",
       "      <th></th>\n",
       "      <th>outcome</th>\n",
       "      <th>age</th>\n",
       "      <th>yronset</th>\n",
       "      <th>premi</th>\n",
       "      <th>smstat</th>\n",
       "      <th>diabetes</th>\n",
       "      <th>highbp</th>\n",
       "      <th>hichol</th>\n",
       "      <th>angina</th>\n",
       "      <th>stroke</th>\n",
       "    </tr>\n",
       "  </thead>\n",
       "  <tbody>\n",
       "    <tr>\n",
       "      <th>0</th>\n",
       "      <td>live</td>\n",
       "      <td>63</td>\n",
       "      <td>85</td>\n",
       "      <td>n</td>\n",
       "      <td>x</td>\n",
       "      <td>n</td>\n",
       "      <td>y</td>\n",
       "      <td>y</td>\n",
       "      <td>n</td>\n",
       "      <td>n</td>\n",
       "    </tr>\n",
       "    <tr>\n",
       "      <th>1</th>\n",
       "      <td>live</td>\n",
       "      <td>55</td>\n",
       "      <td>85</td>\n",
       "      <td>n</td>\n",
       "      <td>c</td>\n",
       "      <td>n</td>\n",
       "      <td>y</td>\n",
       "      <td>y</td>\n",
       "      <td>n</td>\n",
       "      <td>n</td>\n",
       "    </tr>\n",
       "    <tr>\n",
       "      <th>2</th>\n",
       "      <td>live</td>\n",
       "      <td>68</td>\n",
       "      <td>85</td>\n",
       "      <td>y</td>\n",
       "      <td>nk</td>\n",
       "      <td>nk</td>\n",
       "      <td>y</td>\n",
       "      <td>y</td>\n",
       "      <td>y</td>\n",
       "      <td>n</td>\n",
       "    </tr>\n",
       "    <tr>\n",
       "      <th>3</th>\n",
       "      <td>live</td>\n",
       "      <td>64</td>\n",
       "      <td>85</td>\n",
       "      <td>n</td>\n",
       "      <td>x</td>\n",
       "      <td>n</td>\n",
       "      <td>y</td>\n",
       "      <td>n</td>\n",
       "      <td>y</td>\n",
       "      <td>n</td>\n",
       "    </tr>\n",
       "    <tr>\n",
       "      <th>4</th>\n",
       "      <td>dead</td>\n",
       "      <td>67</td>\n",
       "      <td>85</td>\n",
       "      <td>n</td>\n",
       "      <td>nk</td>\n",
       "      <td>nk</td>\n",
       "      <td>nk</td>\n",
       "      <td>y</td>\n",
       "      <td>nk</td>\n",
       "      <td>nk</td>\n",
       "    </tr>\n",
       "    <tr>\n",
       "      <th>...</th>\n",
       "      <td>...</td>\n",
       "      <td>...</td>\n",
       "      <td>...</td>\n",
       "      <td>...</td>\n",
       "      <td>...</td>\n",
       "      <td>...</td>\n",
       "      <td>...</td>\n",
       "      <td>...</td>\n",
       "      <td>...</td>\n",
       "      <td>...</td>\n",
       "    </tr>\n",
       "    <tr>\n",
       "      <th>1290</th>\n",
       "      <td>live</td>\n",
       "      <td>69</td>\n",
       "      <td>93</td>\n",
       "      <td>n</td>\n",
       "      <td>x</td>\n",
       "      <td>n</td>\n",
       "      <td>y</td>\n",
       "      <td>y</td>\n",
       "      <td>n</td>\n",
       "      <td>y</td>\n",
       "    </tr>\n",
       "    <tr>\n",
       "      <th>1291</th>\n",
       "      <td>live</td>\n",
       "      <td>54</td>\n",
       "      <td>93</td>\n",
       "      <td>n</td>\n",
       "      <td>n</td>\n",
       "      <td>n</td>\n",
       "      <td>y</td>\n",
       "      <td>y</td>\n",
       "      <td>n</td>\n",
       "      <td>n</td>\n",
       "    </tr>\n",
       "    <tr>\n",
       "      <th>1292</th>\n",
       "      <td>live</td>\n",
       "      <td>64</td>\n",
       "      <td>93</td>\n",
       "      <td>n</td>\n",
       "      <td>n</td>\n",
       "      <td>n</td>\n",
       "      <td>y</td>\n",
       "      <td>y</td>\n",
       "      <td>n</td>\n",
       "      <td>n</td>\n",
       "    </tr>\n",
       "    <tr>\n",
       "      <th>1293</th>\n",
       "      <td>live</td>\n",
       "      <td>36</td>\n",
       "      <td>93</td>\n",
       "      <td>n</td>\n",
       "      <td>c</td>\n",
       "      <td>n</td>\n",
       "      <td>n</td>\n",
       "      <td>y</td>\n",
       "      <td>n</td>\n",
       "      <td>n</td>\n",
       "    </tr>\n",
       "    <tr>\n",
       "      <th>1294</th>\n",
       "      <td>live</td>\n",
       "      <td>65</td>\n",
       "      <td>93</td>\n",
       "      <td>n</td>\n",
       "      <td>n</td>\n",
       "      <td>n</td>\n",
       "      <td>n</td>\n",
       "      <td>y</td>\n",
       "      <td>n</td>\n",
       "      <td>n</td>\n",
       "    </tr>\n",
       "  </tbody>\n",
       "</table>\n",
       "<p>1295 rows × 10 columns</p>\n",
       "</div>"
      ],
      "text/plain": [
       "     outcome  age  yronset premi smstat diabetes highbp hichol angina stroke\n",
       "0       live   63       85     n      x        n      y      y      n      n\n",
       "1       live   55       85     n      c        n      y      y      n      n\n",
       "2       live   68       85     y     nk       nk      y      y      y      n\n",
       "3       live   64       85     n      x        n      y      n      y      n\n",
       "4       dead   67       85     n     nk       nk     nk      y     nk     nk\n",
       "...      ...  ...      ...   ...    ...      ...    ...    ...    ...    ...\n",
       "1290    live   69       93     n      x        n      y      y      n      y\n",
       "1291    live   54       93     n      n        n      y      y      n      n\n",
       "1292    live   64       93     n      n        n      y      y      n      n\n",
       "1293    live   36       93     n      c        n      n      y      n      n\n",
       "1294    live   65       93     n      n        n      n      y      n      n\n",
       "\n",
       "[1295 rows x 10 columns]"
      ]
     },
     "execution_count": 554,
     "metadata": {},
     "output_type": "execute_result"
    }
   ],
   "source": [
    "df.info()\n",
    "df"
   ]
  },
  {
   "cell_type": "code",
   "execution_count": 555,
   "metadata": {},
   "outputs": [],
   "source": [
    "b= df[['diabetes', 'highbp' , 'angina', 'stroke' , 'smstat' , 'premi']]"
   ]
  },
  {
   "cell_type": "code",
   "execution_count": 556,
   "metadata": {},
   "outputs": [],
   "source": [
    "for i in b :\n",
    "    df.drop (df[df[i] == 'nk'].index, inplace = True)\n",
    "    "
   ]
  },
  {
   "cell_type": "code",
   "execution_count": 557,
   "metadata": {},
   "outputs": [
    {
     "name": "stdout",
     "output_type": "stream",
     "text": [
      "n    900\n",
      "y    224\n",
      "Name: diabetes, dtype: int64\n",
      "y    735\n",
      "n    389\n",
      "Name: highbp, dtype: int64\n",
      "n    692\n",
      "y    432\n",
      "Name: angina, dtype: int64\n",
      "n    990\n",
      "y    134\n",
      "Name: stroke, dtype: int64\n",
      "n    496\n",
      "c    367\n",
      "x    261\n",
      "Name: smstat, dtype: int64\n",
      "n    849\n",
      "y    275\n",
      "Name: premi, dtype: int64\n"
     ]
    }
   ],
   "source": [
    "for i in b :\n",
    "    print( df[i].value_counts())"
   ]
  },
  {
   "cell_type": "code",
   "execution_count": 559,
   "metadata": {},
   "outputs": [],
   "source": [
    "for i in df.columns:\n",
    "        df[i]= pd.Categorical(df[i]).codes"
   ]
  },
  {
   "cell_type": "code",
   "execution_count": 560,
   "metadata": {},
   "outputs": [],
   "source": [
    "df['yronset']=pd.Categorical(df['yronset']).codes"
   ]
  },
  {
   "cell_type": "code",
   "execution_count": 561,
   "metadata": {},
   "outputs": [
    {
     "data": {
      "text/html": [
       "<div>\n",
       "<style scoped>\n",
       "    .dataframe tbody tr th:only-of-type {\n",
       "        vertical-align: middle;\n",
       "    }\n",
       "\n",
       "    .dataframe tbody tr th {\n",
       "        vertical-align: top;\n",
       "    }\n",
       "\n",
       "    .dataframe thead th {\n",
       "        text-align: right;\n",
       "    }\n",
       "</style>\n",
       "<table border=\"1\" class=\"dataframe\">\n",
       "  <thead>\n",
       "    <tr style=\"text-align: right;\">\n",
       "      <th></th>\n",
       "      <th>outcome</th>\n",
       "      <th>age</th>\n",
       "      <th>yronset</th>\n",
       "      <th>premi</th>\n",
       "      <th>smstat</th>\n",
       "      <th>diabetes</th>\n",
       "      <th>highbp</th>\n",
       "      <th>hichol</th>\n",
       "      <th>angina</th>\n",
       "      <th>stroke</th>\n",
       "    </tr>\n",
       "  </thead>\n",
       "  <tbody>\n",
       "    <tr>\n",
       "      <th>0</th>\n",
       "      <td>1</td>\n",
       "      <td>27</td>\n",
       "      <td>0</td>\n",
       "      <td>0</td>\n",
       "      <td>2</td>\n",
       "      <td>0</td>\n",
       "      <td>1</td>\n",
       "      <td>1</td>\n",
       "      <td>0</td>\n",
       "      <td>0</td>\n",
       "    </tr>\n",
       "    <tr>\n",
       "      <th>1</th>\n",
       "      <td>1</td>\n",
       "      <td>19</td>\n",
       "      <td>0</td>\n",
       "      <td>0</td>\n",
       "      <td>0</td>\n",
       "      <td>0</td>\n",
       "      <td>1</td>\n",
       "      <td>1</td>\n",
       "      <td>0</td>\n",
       "      <td>0</td>\n",
       "    </tr>\n",
       "    <tr>\n",
       "      <th>3</th>\n",
       "      <td>1</td>\n",
       "      <td>28</td>\n",
       "      <td>0</td>\n",
       "      <td>0</td>\n",
       "      <td>2</td>\n",
       "      <td>0</td>\n",
       "      <td>1</td>\n",
       "      <td>0</td>\n",
       "      <td>1</td>\n",
       "      <td>0</td>\n",
       "    </tr>\n",
       "    <tr>\n",
       "      <th>6</th>\n",
       "      <td>1</td>\n",
       "      <td>27</td>\n",
       "      <td>0</td>\n",
       "      <td>0</td>\n",
       "      <td>1</td>\n",
       "      <td>0</td>\n",
       "      <td>1</td>\n",
       "      <td>0</td>\n",
       "      <td>0</td>\n",
       "      <td>0</td>\n",
       "    </tr>\n",
       "    <tr>\n",
       "      <th>7</th>\n",
       "      <td>0</td>\n",
       "      <td>32</td>\n",
       "      <td>0</td>\n",
       "      <td>1</td>\n",
       "      <td>1</td>\n",
       "      <td>0</td>\n",
       "      <td>1</td>\n",
       "      <td>1</td>\n",
       "      <td>1</td>\n",
       "      <td>1</td>\n",
       "    </tr>\n",
       "  </tbody>\n",
       "</table>\n",
       "</div>"
      ],
      "text/plain": [
       "   outcome  age  yronset  premi  smstat  diabetes  highbp  hichol  angina  \\\n",
       "0        1   27        0      0       2         0       1       1       0   \n",
       "1        1   19        0      0       0         0       1       1       0   \n",
       "3        1   28        0      0       2         0       1       0       1   \n",
       "6        1   27        0      0       1         0       1       0       0   \n",
       "7        0   32        0      1       1         0       1       1       1   \n",
       "\n",
       "   stroke  \n",
       "0       0  \n",
       "1       0  \n",
       "3       0  \n",
       "6       0  \n",
       "7       1  "
      ]
     },
     "execution_count": 561,
     "metadata": {},
     "output_type": "execute_result"
    }
   ],
   "source": [
    "df.head()"
   ]
  },
  {
   "cell_type": "code",
   "execution_count": 562,
   "metadata": {},
   "outputs": [
    {
     "data": {
      "text/plain": [
       "<matplotlib.axes._subplots.AxesSubplot at 0x1c148ed1788>"
      ]
     },
     "execution_count": 562,
     "metadata": {},
     "output_type": "execute_result"
    },
    {
     "data": {
      "image/png": "[encoded data removed]",
      "text/plain": [
       "<Figure size 720x720 with 1 Axes>"
      ]
     },
     "metadata": {
      "needs_background": "light"
     },
     "output_type": "display_data"
    }
   ],
   "source": [
    "df.boxplot(figsize=(10,10))"
   ]
  },
  {
   "cell_type": "code",
   "execution_count": 563,
   "metadata": {},
   "outputs": [
    {
     "data": {
      "text/html": [
       "<div>\n",
       "<style scoped>\n",
       "    .dataframe tbody tr th:only-of-type {\n",
       "        vertical-align: middle;\n",
       "    }\n",
       "\n",
       "    .dataframe tbody tr th {\n",
       "        vertical-align: top;\n",
       "    }\n",
       "\n",
       "    .dataframe thead th {\n",
       "        text-align: right;\n",
       "    }\n",
       "</style>\n",
       "<table border=\"1\" class=\"dataframe\">\n",
       "  <thead>\n",
       "    <tr style=\"text-align: right;\">\n",
       "      <th></th>\n",
       "      <th>outcome</th>\n",
       "      <th>age</th>\n",
       "      <th>yronset</th>\n",
       "      <th>premi</th>\n",
       "      <th>smstat</th>\n",
       "      <th>diabetes</th>\n",
       "      <th>highbp</th>\n",
       "      <th>hichol</th>\n",
       "      <th>angina</th>\n",
       "      <th>stroke</th>\n",
       "    </tr>\n",
       "  </thead>\n",
       "  <tbody>\n",
       "    <tr>\n",
       "      <th>0</th>\n",
       "      <td>1</td>\n",
       "      <td>27</td>\n",
       "      <td>0</td>\n",
       "      <td>0</td>\n",
       "      <td>2</td>\n",
       "      <td>0</td>\n",
       "      <td>1</td>\n",
       "      <td>1</td>\n",
       "      <td>0</td>\n",
       "      <td>0</td>\n",
       "    </tr>\n",
       "    <tr>\n",
       "      <th>1</th>\n",
       "      <td>1</td>\n",
       "      <td>19</td>\n",
       "      <td>0</td>\n",
       "      <td>0</td>\n",
       "      <td>0</td>\n",
       "      <td>0</td>\n",
       "      <td>1</td>\n",
       "      <td>1</td>\n",
       "      <td>0</td>\n",
       "      <td>0</td>\n",
       "    </tr>\n",
       "    <tr>\n",
       "      <th>3</th>\n",
       "      <td>1</td>\n",
       "      <td>28</td>\n",
       "      <td>0</td>\n",
       "      <td>0</td>\n",
       "      <td>2</td>\n",
       "      <td>0</td>\n",
       "      <td>1</td>\n",
       "      <td>0</td>\n",
       "      <td>1</td>\n",
       "      <td>0</td>\n",
       "    </tr>\n",
       "    <tr>\n",
       "      <th>6</th>\n",
       "      <td>1</td>\n",
       "      <td>27</td>\n",
       "      <td>0</td>\n",
       "      <td>0</td>\n",
       "      <td>1</td>\n",
       "      <td>0</td>\n",
       "      <td>1</td>\n",
       "      <td>0</td>\n",
       "      <td>0</td>\n",
       "      <td>0</td>\n",
       "    </tr>\n",
       "    <tr>\n",
       "      <th>7</th>\n",
       "      <td>0</td>\n",
       "      <td>32</td>\n",
       "      <td>0</td>\n",
       "      <td>1</td>\n",
       "      <td>1</td>\n",
       "      <td>0</td>\n",
       "      <td>1</td>\n",
       "      <td>1</td>\n",
       "      <td>1</td>\n",
       "      <td>1</td>\n",
       "    </tr>\n",
       "    <tr>\n",
       "      <th>...</th>\n",
       "      <td>...</td>\n",
       "      <td>...</td>\n",
       "      <td>...</td>\n",
       "      <td>...</td>\n",
       "      <td>...</td>\n",
       "      <td>...</td>\n",
       "      <td>...</td>\n",
       "      <td>...</td>\n",
       "      <td>...</td>\n",
       "      <td>...</td>\n",
       "    </tr>\n",
       "    <tr>\n",
       "      <th>1290</th>\n",
       "      <td>1</td>\n",
       "      <td>33</td>\n",
       "      <td>8</td>\n",
       "      <td>0</td>\n",
       "      <td>2</td>\n",
       "      <td>0</td>\n",
       "      <td>1</td>\n",
       "      <td>1</td>\n",
       "      <td>0</td>\n",
       "      <td>1</td>\n",
       "    </tr>\n",
       "    <tr>\n",
       "      <th>1291</th>\n",
       "      <td>1</td>\n",
       "      <td>18</td>\n",
       "      <td>8</td>\n",
       "      <td>0</td>\n",
       "      <td>1</td>\n",
       "      <td>0</td>\n",
       "      <td>1</td>\n",
       "      <td>1</td>\n",
       "      <td>0</td>\n",
       "      <td>0</td>\n",
       "    </tr>\n",
       "    <tr>\n",
       "      <th>1292</th>\n",
       "      <td>1</td>\n",
       "      <td>28</td>\n",
       "      <td>8</td>\n",
       "      <td>0</td>\n",
       "      <td>1</td>\n",
       "      <td>0</td>\n",
       "      <td>1</td>\n",
       "      <td>1</td>\n",
       "      <td>0</td>\n",
       "      <td>0</td>\n",
       "    </tr>\n",
       "    <tr>\n",
       "      <th>1293</th>\n",
       "      <td>1</td>\n",
       "      <td>1</td>\n",
       "      <td>8</td>\n",
       "      <td>0</td>\n",
       "      <td>0</td>\n",
       "      <td>0</td>\n",
       "      <td>0</td>\n",
       "      <td>1</td>\n",
       "      <td>0</td>\n",
       "      <td>0</td>\n",
       "    </tr>\n",
       "    <tr>\n",
       "      <th>1294</th>\n",
       "      <td>1</td>\n",
       "      <td>29</td>\n",
       "      <td>8</td>\n",
       "      <td>0</td>\n",
       "      <td>1</td>\n",
       "      <td>0</td>\n",
       "      <td>0</td>\n",
       "      <td>1</td>\n",
       "      <td>0</td>\n",
       "      <td>0</td>\n",
       "    </tr>\n",
       "  </tbody>\n",
       "</table>\n",
       "<p>1124 rows × 10 columns</p>\n",
       "</div>"
      ],
      "text/plain": [
       "      outcome  age  yronset  premi  smstat  diabetes  highbp  hichol  angina  \\\n",
       "0           1   27        0      0       2         0       1       1       0   \n",
       "1           1   19        0      0       0         0       1       1       0   \n",
       "3           1   28        0      0       2         0       1       0       1   \n",
       "6           1   27        0      0       1         0       1       0       0   \n",
       "7           0   32        0      1       1         0       1       1       1   \n",
       "...       ...  ...      ...    ...     ...       ...     ...     ...     ...   \n",
       "1290        1   33        8      0       2         0       1       1       0   \n",
       "1291        1   18        8      0       1         0       1       1       0   \n",
       "1292        1   28        8      0       1         0       1       1       0   \n",
       "1293        1    1        8      0       0         0       0       1       0   \n",
       "1294        1   29        8      0       1         0       0       1       0   \n",
       "\n",
       "      stroke  \n",
       "0          0  \n",
       "1          0  \n",
       "3          0  \n",
       "6          0  \n",
       "7          1  \n",
       "...      ...  \n",
       "1290       1  \n",
       "1291       0  \n",
       "1292       0  \n",
       "1293       0  \n",
       "1294       0  \n",
       "\n",
       "[1124 rows x 10 columns]"
      ]
     },
     "execution_count": 563,
     "metadata": {},
     "output_type": "execute_result"
    }
   ],
   "source": [
    "df"
   ]
  },
  {
   "cell_type": "code",
   "execution_count": 564,
   "metadata": {},
   "outputs": [
    {
     "data": {
      "text/html": [
       "<div>\n",
       "<style scoped>\n",
       "    .dataframe tbody tr th:only-of-type {\n",
       "        vertical-align: middle;\n",
       "    }\n",
       "\n",
       "    .dataframe tbody tr th {\n",
       "        vertical-align: top;\n",
       "    }\n",
       "\n",
       "    .dataframe thead th {\n",
       "        text-align: right;\n",
       "    }\n",
       "</style>\n",
       "<table border=\"1\" class=\"dataframe\">\n",
       "  <thead>\n",
       "    <tr style=\"text-align: right;\">\n",
       "      <th></th>\n",
       "      <th>outcome</th>\n",
       "      <th>age</th>\n",
       "      <th>yronset</th>\n",
       "      <th>premi</th>\n",
       "      <th>smstat</th>\n",
       "      <th>diabetes</th>\n",
       "      <th>highbp</th>\n",
       "      <th>hichol</th>\n",
       "      <th>angina</th>\n",
       "      <th>stroke</th>\n",
       "    </tr>\n",
       "  </thead>\n",
       "  <tbody>\n",
       "    <tr>\n",
       "      <th>0</th>\n",
       "      <td>1</td>\n",
       "      <td>27</td>\n",
       "      <td>0</td>\n",
       "      <td>0</td>\n",
       "      <td>2</td>\n",
       "      <td>0</td>\n",
       "      <td>1</td>\n",
       "      <td>1</td>\n",
       "      <td>0</td>\n",
       "      <td>0</td>\n",
       "    </tr>\n",
       "    <tr>\n",
       "      <th>1</th>\n",
       "      <td>1</td>\n",
       "      <td>19</td>\n",
       "      <td>0</td>\n",
       "      <td>0</td>\n",
       "      <td>0</td>\n",
       "      <td>0</td>\n",
       "      <td>1</td>\n",
       "      <td>1</td>\n",
       "      <td>0</td>\n",
       "      <td>0</td>\n",
       "    </tr>\n",
       "    <tr>\n",
       "      <th>3</th>\n",
       "      <td>1</td>\n",
       "      <td>28</td>\n",
       "      <td>0</td>\n",
       "      <td>0</td>\n",
       "      <td>2</td>\n",
       "      <td>0</td>\n",
       "      <td>1</td>\n",
       "      <td>0</td>\n",
       "      <td>1</td>\n",
       "      <td>0</td>\n",
       "    </tr>\n",
       "    <tr>\n",
       "      <th>6</th>\n",
       "      <td>1</td>\n",
       "      <td>27</td>\n",
       "      <td>0</td>\n",
       "      <td>0</td>\n",
       "      <td>1</td>\n",
       "      <td>0</td>\n",
       "      <td>1</td>\n",
       "      <td>0</td>\n",
       "      <td>0</td>\n",
       "      <td>0</td>\n",
       "    </tr>\n",
       "    <tr>\n",
       "      <th>7</th>\n",
       "      <td>0</td>\n",
       "      <td>32</td>\n",
       "      <td>0</td>\n",
       "      <td>1</td>\n",
       "      <td>1</td>\n",
       "      <td>0</td>\n",
       "      <td>1</td>\n",
       "      <td>1</td>\n",
       "      <td>1</td>\n",
       "      <td>1</td>\n",
       "    </tr>\n",
       "  </tbody>\n",
       "</table>\n",
       "</div>"
      ],
      "text/plain": [
       "   outcome  age  yronset  premi  smstat  diabetes  highbp  hichol  angina  \\\n",
       "0        1   27        0      0       2         0       1       1       0   \n",
       "1        1   19        0      0       0         0       1       1       0   \n",
       "3        1   28        0      0       2         0       1       0       1   \n",
       "6        1   27        0      0       1         0       1       0       0   \n",
       "7        0   32        0      1       1         0       1       1       1   \n",
       "\n",
       "   stroke  \n",
       "0       0  \n",
       "1       0  \n",
       "3       0  \n",
       "6       0  \n",
       "7       1  "
      ]
     },
     "execution_count": 564,
     "metadata": {},
     "output_type": "execute_result"
    }
   ],
   "source": [
    "df.shape\n",
    "df.head()"
   ]
  },
  {
   "cell_type": "code",
   "execution_count": 565,
   "metadata": {},
   "outputs": [
    {
     "data": {
      "text/plain": [
       "1    915\n",
       "0    209\n",
       "Name: outcome, dtype: int64"
      ]
     },
     "execution_count": 565,
     "metadata": {},
     "output_type": "execute_result"
    }
   ],
   "source": [
    "df['outcome'].value_counts()"
   ]
  },
  {
   "cell_type": "code",
   "execution_count": 566,
   "metadata": {},
   "outputs": [],
   "source": [
    "df.loc[df['outcome']==1 , 'outcome'] = 2"
   ]
  },
  {
   "cell_type": "code",
   "execution_count": 567,
   "metadata": {},
   "outputs": [],
   "source": [
    "df.loc[df['outcome']==0 ,'outcome'] = 1"
   ]
  },
  {
   "cell_type": "code",
   "execution_count": 568,
   "metadata": {},
   "outputs": [],
   "source": [
    "df.loc[df['outcome']==2 , 'outcome'] = 0"
   ]
  },
  {
   "cell_type": "code",
   "execution_count": 569,
   "metadata": {},
   "outputs": [
    {
     "data": {
      "text/plain": [
       "0    915\n",
       "1    209\n",
       "Name: outcome, dtype: int64"
      ]
     },
     "execution_count": 569,
     "metadata": {},
     "output_type": "execute_result"
    }
   ],
   "source": [
    "df['outcome'].value_counts()"
   ]
  },
  {
   "cell_type": "code",
   "execution_count": 570,
   "metadata": {},
   "outputs": [
    {
     "data": {
      "text/plain": [
       "<matplotlib.axes._subplots.AxesSubplot at 0x1c149209a08>"
      ]
     },
     "execution_count": 570,
     "metadata": {},
     "output_type": "execute_result"
    },
    {
     "data": {
      "image/png": "[encoded data removed]",
      "text/plain": [
       "<Figure size 720x576 with 2 Axes>"
      ]
     },
     "metadata": {
      "needs_background": "light"
     },
     "output_type": "display_data"
    }
   ],
   "source": [
    "corr = df.corr()\n",
    "corr\n",
    "plt.figure(figsize= (10,8))\n",
    "sns.heatmap(corr, annot = True, vmin = -1 , vmax = 1)\n"
   ]
  },
  {
   "cell_type": "code",
   "execution_count": 571,
   "metadata": {},
   "outputs": [],
   "source": [
    "train , test = train_test_split(df, test_size = 0.30)"
   ]
  },
  {
   "cell_type": "code",
   "execution_count": 572,
   "metadata": {},
   "outputs": [
    {
     "data": {
      "text/plain": [
       "(786, 10)"
      ]
     },
     "execution_count": 572,
     "metadata": {},
     "output_type": "execute_result"
    }
   ],
   "source": [
    "train.shape\n"
   ]
  },
  {
   "cell_type": "code",
   "execution_count": 573,
   "metadata": {},
   "outputs": [
    {
     "data": {
      "text/html": [
       "<div>\n",
       "<style scoped>\n",
       "    .dataframe tbody tr th:only-of-type {\n",
       "        vertical-align: middle;\n",
       "    }\n",
       "\n",
       "    .dataframe tbody tr th {\n",
       "        vertical-align: top;\n",
       "    }\n",
       "\n",
       "    .dataframe thead th {\n",
       "        text-align: right;\n",
       "    }\n",
       "</style>\n",
       "<table border=\"1\" class=\"dataframe\">\n",
       "  <thead>\n",
       "    <tr style=\"text-align: right;\">\n",
       "      <th></th>\n",
       "      <th>outcome</th>\n",
       "      <th>age</th>\n",
       "      <th>yronset</th>\n",
       "      <th>premi</th>\n",
       "      <th>smstat</th>\n",
       "      <th>diabetes</th>\n",
       "      <th>highbp</th>\n",
       "      <th>hichol</th>\n",
       "      <th>angina</th>\n",
       "      <th>stroke</th>\n",
       "    </tr>\n",
       "  </thead>\n",
       "  <tbody>\n",
       "    <tr>\n",
       "      <th>0</th>\n",
       "      <td>0</td>\n",
       "      <td>27</td>\n",
       "      <td>0</td>\n",
       "      <td>0</td>\n",
       "      <td>2</td>\n",
       "      <td>0</td>\n",
       "      <td>1</td>\n",
       "      <td>1</td>\n",
       "      <td>0</td>\n",
       "      <td>0</td>\n",
       "    </tr>\n",
       "    <tr>\n",
       "      <th>1</th>\n",
       "      <td>0</td>\n",
       "      <td>19</td>\n",
       "      <td>0</td>\n",
       "      <td>0</td>\n",
       "      <td>0</td>\n",
       "      <td>0</td>\n",
       "      <td>1</td>\n",
       "      <td>1</td>\n",
       "      <td>0</td>\n",
       "      <td>0</td>\n",
       "    </tr>\n",
       "    <tr>\n",
       "      <th>3</th>\n",
       "      <td>0</td>\n",
       "      <td>28</td>\n",
       "      <td>0</td>\n",
       "      <td>0</td>\n",
       "      <td>2</td>\n",
       "      <td>0</td>\n",
       "      <td>1</td>\n",
       "      <td>0</td>\n",
       "      <td>1</td>\n",
       "      <td>0</td>\n",
       "    </tr>\n",
       "    <tr>\n",
       "      <th>6</th>\n",
       "      <td>0</td>\n",
       "      <td>27</td>\n",
       "      <td>0</td>\n",
       "      <td>0</td>\n",
       "      <td>1</td>\n",
       "      <td>0</td>\n",
       "      <td>1</td>\n",
       "      <td>0</td>\n",
       "      <td>0</td>\n",
       "      <td>0</td>\n",
       "    </tr>\n",
       "    <tr>\n",
       "      <th>7</th>\n",
       "      <td>1</td>\n",
       "      <td>32</td>\n",
       "      <td>0</td>\n",
       "      <td>1</td>\n",
       "      <td>1</td>\n",
       "      <td>0</td>\n",
       "      <td>1</td>\n",
       "      <td>1</td>\n",
       "      <td>1</td>\n",
       "      <td>1</td>\n",
       "    </tr>\n",
       "  </tbody>\n",
       "</table>\n",
       "</div>"
      ],
      "text/plain": [
       "   outcome  age  yronset  premi  smstat  diabetes  highbp  hichol  angina  \\\n",
       "0        0   27        0      0       2         0       1       1       0   \n",
       "1        0   19        0      0       0         0       1       1       0   \n",
       "3        0   28        0      0       2         0       1       0       1   \n",
       "6        0   27        0      0       1         0       1       0       0   \n",
       "7        1   32        0      1       1         0       1       1       1   \n",
       "\n",
       "   stroke  \n",
       "0       0  \n",
       "1       0  \n",
       "3       0  \n",
       "6       0  \n",
       "7       1  "
      ]
     },
     "execution_count": 573,
     "metadata": {},
     "output_type": "execute_result"
    }
   ],
   "source": [
    "df.head()"
   ]
  },
  {
   "cell_type": "code",
   "execution_count": 574,
   "metadata": {},
   "outputs": [],
   "source": [
    "X_train= train.drop('outcome', axis=1)"
   ]
  },
  {
   "cell_type": "code",
   "execution_count": 575,
   "metadata": {},
   "outputs": [],
   "source": [
    "X_test = test.drop('outcome', axis =1)"
   ]
  },
  {
   "cell_type": "code",
   "execution_count": 576,
   "metadata": {},
   "outputs": [],
   "source": [
    "y_train = train['outcome']\n",
    "y_test = test['outcome']"
   ]
  },
  {
   "cell_type": "code",
   "execution_count": 577,
   "metadata": {},
   "outputs": [],
   "source": [
    "model = DecisionTreeClassifier(criterion = 'gini', max_depth = 30, max_features = 4 , max_leaf_nodes = 50,min_samples_leaf = 3, min_samples_split = 10, random_state = 1)\n",
    "model.fit(X_train, y_train)\n",
    "pred = model.predict(X_test)"
   ]
  },
  {
   "cell_type": "code",
   "execution_count": 579,
   "metadata": {},
   "outputs": [
    {
     "name": "stdout",
     "output_type": "stream",
     "text": [
      "0.8384223918575063\n"
     ]
    }
   ],
   "source": [
    "#train score\n",
    "print (model.score(X_train, y_train))\n",
    "train_pred=model.predict(X_train)"
   ]
  },
  {
   "cell_type": "code",
   "execution_count": 580,
   "metadata": {},
   "outputs": [
    {
     "name": "stdout",
     "output_type": "stream",
     "text": [
      "              precision    recall  f1-score   support\n",
      "\n",
      "           0       0.85      0.98      0.91       639\n",
      "           1       0.71      0.23      0.35       147\n",
      "\n",
      "    accuracy                           0.84       786\n",
      "   macro avg       0.78      0.60      0.63       786\n",
      "weighted avg       0.82      0.84      0.80       786\n",
      "\n"
     ]
    }
   ],
   "source": [
    "print ( classification_report(y_train, train_pred))"
   ]
  },
  {
   "cell_type": "code",
   "execution_count": 581,
   "metadata": {},
   "outputs": [
    {
     "name": "stdout",
     "output_type": "stream",
     "text": [
      "              precision    recall  f1-score   support\n",
      "\n",
      "           0       0.83      0.95      0.88       276\n",
      "           1       0.38      0.15      0.21        62\n",
      "\n",
      "    accuracy                           0.80       338\n",
      "   macro avg       0.60      0.55      0.55       338\n",
      "weighted avg       0.75      0.80      0.76       338\n",
      "\n"
     ]
    }
   ],
   "source": [
    "print (classification_report(y_test , pred))"
   ]
  },
  {
   "cell_type": "code",
   "execution_count": 582,
   "metadata": {},
   "outputs": [
    {
     "data": {
      "text/plain": [
       "array([[625,  14],\n",
       "       [113,  34]], dtype=int64)"
      ]
     },
     "execution_count": 582,
     "metadata": {},
     "output_type": "execute_result"
    }
   ],
   "source": [
    "z=confusion_matrix(y_train, train_pred)\n",
    "z"
   ]
  },
  {
   "cell_type": "code",
   "execution_count": 583,
   "metadata": {},
   "outputs": [
    {
     "data": {
      "text/plain": [
       "array([[261,  15],\n",
       "       [ 53,   9]], dtype=int64)"
      ]
     },
     "execution_count": 583,
     "metadata": {},
     "output_type": "execute_result"
    }
   ],
   "source": [
    "z1 =confusion_matrix(y_test, pred)\n",
    "z1"
   ]
  },
  {
   "cell_type": "code",
   "execution_count": 584,
   "metadata": {},
   "outputs": [
    {
     "data": {
      "image/png": "[encoded data removed]",
      "text/plain": [
       "<Figure size 432x288 with 2 Axes>"
      ]
     },
     "metadata": {
      "needs_background": "light"
     },
     "output_type": "display_data"
    }
   ],
   "source": [
    "sns.heatmap(z, annot = True, cmap= \"winter_r\", fmt='.3g', linecolor='red')\n",
    "plt.xlabel('Predicted Values')\n",
    "plt.ylabel('Actual Values')\n",
    "plt.show()"
   ]
  },
  {
   "cell_type": "code",
   "execution_count": 585,
   "metadata": {},
   "outputs": [
    {
     "data": {
      "image/png": "[encoded data removed]",
      "text/plain": [
       "<Figure size 432x288 with 2 Axes>"
      ]
     },
     "metadata": {
      "needs_background": "light"
     },
     "output_type": "display_data"
    }
   ],
   "source": [
    "sns.heatmap(z1, annot = True, cmap= \"winter_r\", fmt='.3g', linecolor='red')\n",
    "plt.xlabel('Predicted Values')\n",
    "plt.ylabel('Actual Values')\n",
    "plt.show()"
   ]
  },
  {
   "cell_type": "code",
   "execution_count": 586,
   "metadata": {},
   "outputs": [],
   "source": [
    "from sklearn.metrics import roc_auc_score, roc_curve\n"
   ]
  },
  {
   "cell_type": "code",
   "execution_count": 587,
   "metadata": {},
   "outputs": [
    {
     "name": "stdout",
     "output_type": "stream",
     "text": [
      "              precision    recall  f1-score   support\n",
      "\n",
      "           0       0.85      0.98      0.91       639\n",
      "           1       0.71      0.23      0.35       147\n",
      "\n",
      "    accuracy                           0.84       786\n",
      "   macro avg       0.78      0.60      0.63       786\n",
      "weighted avg       0.82      0.84      0.80       786\n",
      "\n"
     ]
    }
   ],
   "source": [
    "print ( classification_report(y_train, train_pred))"
   ]
  },
  {
   "cell_type": "code",
   "execution_count": 588,
   "metadata": {},
   "outputs": [
    {
     "name": "stdout",
     "output_type": "stream",
     "text": [
      "              precision    recall  f1-score   support\n",
      "\n",
      "           0       0.83      0.95      0.88       276\n",
      "           1       0.38      0.15      0.21        62\n",
      "\n",
      "    accuracy                           0.80       338\n",
      "   macro avg       0.60      0.55      0.55       338\n",
      "weighted avg       0.75      0.80      0.76       338\n",
      "\n"
     ]
    }
   ],
   "source": [
    "print ( classification_report(y_test, pred))"
   ]
  },
  {
   "cell_type": "code",
   "execution_count": 635,
   "metadata": {},
   "outputs": [
    {
     "data": {
      "text/plain": [
       "0.7988165680473372"
      ]
     },
     "execution_count": 635,
     "metadata": {},
     "output_type": "execute_result"
    }
   ],
   "source": [
    "model.score(X_test, y_test)\n"
   ]
  },
  {
   "cell_type": "code",
   "execution_count": 591,
   "metadata": {},
   "outputs": [
    {
     "data": {
      "text/plain": [
       "array([[261,  15],\n",
       "       [ 53,   9]], dtype=int64)"
      ]
     },
     "execution_count": 591,
     "metadata": {},
     "output_type": "execute_result"
    }
   ],
   "source": [
    "z1"
   ]
  },
  {
   "cell_type": "code",
   "execution_count": 592,
   "metadata": {},
   "outputs": [
    {
     "data": {
      "text/plain": [
       "0.7996710421257706"
      ]
     },
     "execution_count": 592,
     "metadata": {},
     "output_type": "execute_result"
    },
    {
     "data": {
      "image/png": "[encoded data removed]",
      "text/plain": [
       "<Figure size 432x288 with 1 Axes>"
      ]
     },
     "metadata": {
      "needs_background": "light"
     },
     "output_type": "display_data"
    }
   ],
   "source": [
    "train_prob=model.predict_proba(X_train)\n",
    "train_prob=pd.DataFrame(train_prob)[1]\n",
    "fpr , tpr,_ =roc_curve(y_train , train_prob)\n",
    "plt.plot(fpr, tpr)\n",
    "plt.plot(np.arange(0,1.1,0.1) , np.arange(0,1.1,0.1))\n",
    "roc_auc_score(y_train , train_prob)"
   ]
  },
  {
   "cell_type": "code",
   "execution_count": 593,
   "metadata": {},
   "outputs": [
    {
     "data": {
      "text/plain": [
       "0.5791841982234689"
      ]
     },
     "execution_count": 593,
     "metadata": {},
     "output_type": "execute_result"
    },
    {
     "data": {
      "image/png": "[encoded data removed]",
      "text/plain": [
       "<Figure size 432x288 with 1 Axes>"
      ]
     },
     "metadata": {
      "needs_background": "light"
     },
     "output_type": "display_data"
    }
   ],
   "source": [
    "test_prob=model.predict_proba(X_test)\n",
    "test_prob=pd.DataFrame(test_prob)[1]\n",
    "fpr , tpr,_ =roc_curve(y_test , test_prob)\n",
    "plt.plot(fpr, tpr)\n",
    "plt.plot(np.arange(0,1.1,0.1) , np.arange(0,1.1,0.1))\n",
    "roc_auc_score(y_test , test_prob)"
   ]
  },
  {
   "cell_type": "code",
   "execution_count": 594,
   "metadata": {},
   "outputs": [
    {
     "data": {
      "text/plain": [
       "age         0.404845\n",
       "yronset     0.138196\n",
       "premi       0.026824\n",
       "smstat      0.157665\n",
       "diabetes    0.024321\n",
       "highbp      0.055877\n",
       "hichol      0.085866\n",
       "angina      0.038449\n",
       "stroke      0.067957\n",
       "Name: 0, dtype: float64"
      ]
     },
     "execution_count": 594,
     "metadata": {},
     "output_type": "execute_result"
    }
   ],
   "source": [
    "feature_importance1=model.feature_importances_\n",
    "feature_importance1=pd.DataFrame(feature_importance1 ,X_train.columns)\n",
    "feature_importance1['Importance']= feature_importance1[0]\n",
    "feature_importance1[0]"
   ]
  },
  {
   "cell_type": "markdown",
   "metadata": {},
   "source": [
    "## Random Forest\n"
   ]
  },
  {
   "cell_type": "code",
   "execution_count": 595,
   "metadata": {},
   "outputs": [],
   "source": [
    "from sklearn.ensemble import RandomForestClassifier"
   ]
  },
  {
   "cell_type": "code",
   "execution_count": 596,
   "metadata": {},
   "outputs": [],
   "source": [
    "model1 = RandomForestClassifier(n_estimators = 20 , max_features = 8, max_samples = 50,  random_state = 1 )\n",
    "model1.fit(X_train, y_train)\n",
    "pred1 = model1.predict(X_test)"
   ]
  },
  {
   "cell_type": "code",
   "execution_count": 597,
   "metadata": {},
   "outputs": [
    {
     "data": {
      "text/plain": [
       "0.8078880407124682"
      ]
     },
     "execution_count": 597,
     "metadata": {},
     "output_type": "execute_result"
    }
   ],
   "source": [
    "model1.score(X_train, y_train)"
   ]
  },
  {
   "cell_type": "code",
   "execution_count": 598,
   "metadata": {},
   "outputs": [],
   "source": [
    "#train score\n",
    "train_pred = model1.predict(X_train)"
   ]
  },
  {
   "cell_type": "code",
   "execution_count": 599,
   "metadata": {},
   "outputs": [
    {
     "data": {
      "text/plain": [
       "array([[633,   6],\n",
       "       [145,   2]], dtype=int64)"
      ]
     },
     "execution_count": 599,
     "metadata": {},
     "output_type": "execute_result"
    }
   ],
   "source": [
    "z3= confusion_matrix(y_train, train_pred)\n",
    "z3\n"
   ]
  },
  {
   "cell_type": "code",
   "execution_count": 600,
   "metadata": {},
   "outputs": [
    {
     "data": {
      "text/plain": [
       "array([[269,   7],\n",
       "       [ 59,   3]], dtype=int64)"
      ]
     },
     "execution_count": 600,
     "metadata": {},
     "output_type": "execute_result"
    }
   ],
   "source": [
    "z4 = confusion_matrix(y_test, pred1)\n",
    "z4\n"
   ]
  },
  {
   "cell_type": "code",
   "execution_count": 601,
   "metadata": {},
   "outputs": [
    {
     "name": "stdout",
     "output_type": "stream",
     "text": [
      "              precision    recall  f1-score   support\n",
      "\n",
      "           0       0.81      0.99      0.89       639\n",
      "           1       0.25      0.01      0.03       147\n",
      "\n",
      "    accuracy                           0.81       786\n",
      "   macro avg       0.53      0.50      0.46       786\n",
      "weighted avg       0.71      0.81      0.73       786\n",
      "\n"
     ]
    }
   ],
   "source": [
    "print (classification_report(y_train, train_pred))"
   ]
  },
  {
   "cell_type": "code",
   "execution_count": 602,
   "metadata": {},
   "outputs": [
    {
     "name": "stdout",
     "output_type": "stream",
     "text": [
      "              precision    recall  f1-score   support\n",
      "\n",
      "           0       0.82      0.97      0.89       276\n",
      "           1       0.30      0.05      0.08        62\n",
      "\n",
      "    accuracy                           0.80       338\n",
      "   macro avg       0.56      0.51      0.49       338\n",
      "weighted avg       0.72      0.80      0.74       338\n",
      "\n"
     ]
    }
   ],
   "source": [
    "print (classification_report(y_test, pred1))"
   ]
  },
  {
   "cell_type": "code",
   "execution_count": 603,
   "metadata": {},
   "outputs": [
    {
     "data": {
      "text/plain": [
       "0.8047337278106509"
      ]
     },
     "execution_count": 603,
     "metadata": {},
     "output_type": "execute_result"
    }
   ],
   "source": [
    "model1.score(X_test, y_test)"
   ]
  },
  {
   "cell_type": "code",
   "execution_count": 604,
   "metadata": {},
   "outputs": [
    {
     "data": {
      "image/png": "[encoded data removed]",
      "text/plain": [
       "<Figure size 432x288 with 2 Axes>"
      ]
     },
     "metadata": {
      "needs_background": "light"
     },
     "output_type": "display_data"
    }
   ],
   "source": [
    "sns.heatmap(z3, annot = True, cmap= \"winter_r\", fmt='.3g', linecolor='red')\n",
    "plt.xlabel('Predicted Values')\n",
    "plt.ylabel('Actual Values')\n",
    "plt.show()"
   ]
  },
  {
   "cell_type": "code",
   "execution_count": 605,
   "metadata": {},
   "outputs": [
    {
     "data": {
      "image/png": "[encoded data removed]",
      "text/plain": [
       "<Figure size 432x288 with 2 Axes>"
      ]
     },
     "metadata": {
      "needs_background": "light"
     },
     "output_type": "display_data"
    }
   ],
   "source": [
    "sns.heatmap(z4, annot = True, cmap= \"winter_r\", fmt='.3g', linecolor='red')\n",
    "plt.xlabel('Predicted Values')\n",
    "plt.ylabel('Actual Values')\n",
    "plt.show()"
   ]
  },
  {
   "cell_type": "code",
   "execution_count": 606,
   "metadata": {},
   "outputs": [
    {
     "name": "stdout",
     "output_type": "stream",
     "text": [
      "              precision    recall  f1-score   support\n",
      "\n",
      "           0       0.82      0.97      0.89       276\n",
      "           1       0.30      0.05      0.08        62\n",
      "\n",
      "    accuracy                           0.80       338\n",
      "   macro avg       0.56      0.51      0.49       338\n",
      "weighted avg       0.72      0.80      0.74       338\n",
      "\n"
     ]
    }
   ],
   "source": [
    "print ( classification_report(y_test, pred1))"
   ]
  },
  {
   "cell_type": "code",
   "execution_count": 607,
   "metadata": {},
   "outputs": [
    {
     "data": {
      "text/plain": [
       "0.6739165149627926"
      ]
     },
     "execution_count": 607,
     "metadata": {},
     "output_type": "execute_result"
    },
    {
     "data": {
      "image/png": "[encoded data removed]",
      "text/plain": [
       "<Figure size 432x288 with 1 Axes>"
      ]
     },
     "metadata": {
      "needs_background": "light"
     },
     "output_type": "display_data"
    }
   ],
   "source": [
    "train_prob=model1.predict_proba(X_train)\n",
    "train_prob=pd.DataFrame(train_prob)[1]\n",
    "fpr , tpr,_ =roc_curve(y_train , train_prob)\n",
    "plt.plot(fpr, tpr)\n",
    "plt.plot(np.arange(0,1.1,0.1) , np.arange(0,1.1,0.1))\n",
    "roc_auc_score(y_train , train_prob)"
   ]
  },
  {
   "cell_type": "code",
   "execution_count": 608,
   "metadata": {},
   "outputs": [
    {
     "data": {
      "text/plain": [
       "0.6421517064048621"
      ]
     },
     "execution_count": 608,
     "metadata": {},
     "output_type": "execute_result"
    },
    {
     "data": {
      "image/png": "[encoded data removed]",
      "text/plain": [
       "<Figure size 432x288 with 1 Axes>"
      ]
     },
     "metadata": {
      "needs_background": "light"
     },
     "output_type": "display_data"
    }
   ],
   "source": [
    "test_prob1=model1.predict_proba(X_test)\n",
    "test_prob1=pd.DataFrame(test_prob1)[1]\n",
    "fpr1 , tpr1,_ =roc_curve(y_test , test_prob1)\n",
    "plt.plot(fpr1, tpr1)\n",
    "plt.plot(np.arange(0,1.1,0.1) , np.arange(0,1.1,0.1))\n",
    "roc_auc_score(y_test , test_prob1)"
   ]
  },
  {
   "cell_type": "code",
   "execution_count": 609,
   "metadata": {},
   "outputs": [
    {
     "data": {
      "text/plain": [
       "0.8047337278106509"
      ]
     },
     "execution_count": 609,
     "metadata": {},
     "output_type": "execute_result"
    }
   ],
   "source": [
    "model1.score(X_test, y_test)\n",
    "# RF score"
   ]
  },
  {
   "cell_type": "code",
   "execution_count": 610,
   "metadata": {},
   "outputs": [
    {
     "data": {
      "text/plain": [
       "age         0.287699\n",
       "yronset     0.277685\n",
       "premi       0.051165\n",
       "smstat      0.088912\n",
       "diabetes    0.049316\n",
       "highbp      0.051003\n",
       "hichol      0.066027\n",
       "angina      0.060309\n",
       "stroke      0.067885\n",
       "Name: 0, dtype: float64"
      ]
     },
     "execution_count": 610,
     "metadata": {},
     "output_type": "execute_result"
    }
   ],
   "source": [
    "fi1=model1.feature_importances_\n",
    "pd.DataFrame(fi1 , X_train.columns)[0]"
   ]
  },
  {
   "cell_type": "markdown",
   "metadata": {},
   "source": [
    "## ANN"
   ]
  },
  {
   "cell_type": "code",
   "execution_count": 611,
   "metadata": {},
   "outputs": [],
   "source": [
    "X_train_s=stats.zscore(X_train)"
   ]
  },
  {
   "cell_type": "code",
   "execution_count": 612,
   "metadata": {},
   "outputs": [],
   "source": [
    "X_test_s = stats.zscore(X_test)\n"
   ]
  },
  {
   "cell_type": "code",
   "execution_count": 613,
   "metadata": {},
   "outputs": [],
   "source": [
    "X_train_s=pd.DataFrame(X_train_s , columns = X_train.columns)"
   ]
  },
  {
   "cell_type": "code",
   "execution_count": 614,
   "metadata": {},
   "outputs": [],
   "source": [
    "X_test_s = pd.DataFrame(X_test_s , columns = X_test.columns)"
   ]
  },
  {
   "cell_type": "code",
   "execution_count": 615,
   "metadata": {},
   "outputs": [
    {
     "data": {
      "text/html": [
       "<div>\n",
       "<style scoped>\n",
       "    .dataframe tbody tr th:only-of-type {\n",
       "        vertical-align: middle;\n",
       "    }\n",
       "\n",
       "    .dataframe tbody tr th {\n",
       "        vertical-align: top;\n",
       "    }\n",
       "\n",
       "    .dataframe thead th {\n",
       "        text-align: right;\n",
       "    }\n",
       "</style>\n",
       "<table border=\"1\" class=\"dataframe\">\n",
       "  <thead>\n",
       "    <tr style=\"text-align: right;\">\n",
       "      <th></th>\n",
       "      <th>age</th>\n",
       "      <th>yronset</th>\n",
       "      <th>premi</th>\n",
       "      <th>smstat</th>\n",
       "      <th>diabetes</th>\n",
       "      <th>highbp</th>\n",
       "      <th>hichol</th>\n",
       "      <th>angina</th>\n",
       "      <th>stroke</th>\n",
       "    </tr>\n",
       "  </thead>\n",
       "  <tbody>\n",
       "    <tr>\n",
       "      <th>0</th>\n",
       "      <td>0.196188</td>\n",
       "      <td>-1.124335</td>\n",
       "      <td>1.758906</td>\n",
       "      <td>1.466329</td>\n",
       "      <td>-0.485643</td>\n",
       "      <td>-1.333186</td>\n",
       "      <td>1.099029</td>\n",
       "      <td>-0.785674</td>\n",
       "      <td>-0.345916</td>\n",
       "    </tr>\n",
       "    <tr>\n",
       "      <th>1</th>\n",
       "      <td>0.053934</td>\n",
       "      <td>0.455866</td>\n",
       "      <td>-0.568535</td>\n",
       "      <td>0.121481</td>\n",
       "      <td>-0.485643</td>\n",
       "      <td>0.750083</td>\n",
       "      <td>-0.909894</td>\n",
       "      <td>-0.785674</td>\n",
       "      <td>-0.345916</td>\n",
       "    </tr>\n",
       "    <tr>\n",
       "      <th>2</th>\n",
       "      <td>0.338443</td>\n",
       "      <td>1.641017</td>\n",
       "      <td>1.758906</td>\n",
       "      <td>1.466329</td>\n",
       "      <td>-0.485643</td>\n",
       "      <td>0.750083</td>\n",
       "      <td>1.099029</td>\n",
       "      <td>1.272792</td>\n",
       "      <td>-0.345916</td>\n",
       "    </tr>\n",
       "    <tr>\n",
       "      <th>3</th>\n",
       "      <td>1.191970</td>\n",
       "      <td>-0.334235</td>\n",
       "      <td>-0.568535</td>\n",
       "      <td>0.121481</td>\n",
       "      <td>-0.485643</td>\n",
       "      <td>0.750083</td>\n",
       "      <td>1.099029</td>\n",
       "      <td>-0.785674</td>\n",
       "      <td>-0.345916</td>\n",
       "    </tr>\n",
       "    <tr>\n",
       "      <th>4</th>\n",
       "      <td>-0.230575</td>\n",
       "      <td>1.641017</td>\n",
       "      <td>1.758906</td>\n",
       "      <td>1.466329</td>\n",
       "      <td>2.059126</td>\n",
       "      <td>0.750083</td>\n",
       "      <td>1.099029</td>\n",
       "      <td>1.272792</td>\n",
       "      <td>2.890872</td>\n",
       "    </tr>\n",
       "    <tr>\n",
       "      <th>...</th>\n",
       "      <td>...</td>\n",
       "      <td>...</td>\n",
       "      <td>...</td>\n",
       "      <td>...</td>\n",
       "      <td>...</td>\n",
       "      <td>...</td>\n",
       "      <td>...</td>\n",
       "      <td>...</td>\n",
       "      <td>...</td>\n",
       "    </tr>\n",
       "    <tr>\n",
       "      <th>781</th>\n",
       "      <td>-0.088321</td>\n",
       "      <td>-0.729285</td>\n",
       "      <td>-0.568535</td>\n",
       "      <td>-1.223367</td>\n",
       "      <td>-0.485643</td>\n",
       "      <td>0.750083</td>\n",
       "      <td>1.099029</td>\n",
       "      <td>1.272792</td>\n",
       "      <td>-0.345916</td>\n",
       "    </tr>\n",
       "    <tr>\n",
       "      <th>782</th>\n",
       "      <td>0.907461</td>\n",
       "      <td>-0.729285</td>\n",
       "      <td>-0.568535</td>\n",
       "      <td>1.466329</td>\n",
       "      <td>2.059126</td>\n",
       "      <td>0.750083</td>\n",
       "      <td>-0.909894</td>\n",
       "      <td>1.272792</td>\n",
       "      <td>-0.345916</td>\n",
       "    </tr>\n",
       "    <tr>\n",
       "      <th>783</th>\n",
       "      <td>0.196188</td>\n",
       "      <td>-0.334235</td>\n",
       "      <td>-0.568535</td>\n",
       "      <td>-1.223367</td>\n",
       "      <td>-0.485643</td>\n",
       "      <td>-1.333186</td>\n",
       "      <td>-0.909894</td>\n",
       "      <td>-0.785674</td>\n",
       "      <td>-0.345916</td>\n",
       "    </tr>\n",
       "    <tr>\n",
       "      <th>784</th>\n",
       "      <td>-0.799593</td>\n",
       "      <td>0.850916</td>\n",
       "      <td>-0.568535</td>\n",
       "      <td>-1.223367</td>\n",
       "      <td>-0.485643</td>\n",
       "      <td>-1.333186</td>\n",
       "      <td>-0.909894</td>\n",
       "      <td>-0.785674</td>\n",
       "      <td>-0.345916</td>\n",
       "    </tr>\n",
       "    <tr>\n",
       "      <th>785</th>\n",
       "      <td>1.049715</td>\n",
       "      <td>-0.729285</td>\n",
       "      <td>-0.568535</td>\n",
       "      <td>1.466329</td>\n",
       "      <td>-0.485643</td>\n",
       "      <td>-1.333186</td>\n",
       "      <td>-0.909894</td>\n",
       "      <td>-0.785674</td>\n",
       "      <td>-0.345916</td>\n",
       "    </tr>\n",
       "  </tbody>\n",
       "</table>\n",
       "<p>786 rows × 9 columns</p>\n",
       "</div>"
      ],
      "text/plain": [
       "          age   yronset     premi    smstat  diabetes    highbp    hichol  \\\n",
       "0    0.196188 -1.124335  1.758906  1.466329 -0.485643 -1.333186  1.099029   \n",
       "1    0.053934  0.455866 -0.568535  0.121481 -0.485643  0.750083 -0.909894   \n",
       "2    0.338443  1.641017  1.758906  1.466329 -0.485643  0.750083  1.099029   \n",
       "3    1.191970 -0.334235 -0.568535  0.121481 -0.485643  0.750083  1.099029   \n",
       "4   -0.230575  1.641017  1.758906  1.466329  2.059126  0.750083  1.099029   \n",
       "..        ...       ...       ...       ...       ...       ...       ...   \n",
       "781 -0.088321 -0.729285 -0.568535 -1.223367 -0.485643  0.750083  1.099029   \n",
       "782  0.907461 -0.729285 -0.568535  1.466329  2.059126  0.750083 -0.909894   \n",
       "783  0.196188 -0.334235 -0.568535 -1.223367 -0.485643 -1.333186 -0.909894   \n",
       "784 -0.799593  0.850916 -0.568535 -1.223367 -0.485643 -1.333186 -0.909894   \n",
       "785  1.049715 -0.729285 -0.568535  1.466329 -0.485643 -1.333186 -0.909894   \n",
       "\n",
       "       angina    stroke  \n",
       "0   -0.785674 -0.345916  \n",
       "1   -0.785674 -0.345916  \n",
       "2    1.272792 -0.345916  \n",
       "3   -0.785674 -0.345916  \n",
       "4    1.272792  2.890872  \n",
       "..        ...       ...  \n",
       "781  1.272792 -0.345916  \n",
       "782  1.272792 -0.345916  \n",
       "783 -0.785674 -0.345916  \n",
       "784 -0.785674 -0.345916  \n",
       "785 -0.785674 -0.345916  \n",
       "\n",
       "[786 rows x 9 columns]"
      ]
     },
     "execution_count": 615,
     "metadata": {},
     "output_type": "execute_result"
    }
   ],
   "source": [
    "X_train_s"
   ]
  },
  {
   "cell_type": "code",
   "execution_count": 616,
   "metadata": {},
   "outputs": [],
   "source": [
    "model2 =MLPClassifier(tol = 0.00001 , max_iter = 100 , random_state = 1)"
   ]
  },
  {
   "cell_type": "code",
   "execution_count": 617,
   "metadata": {},
   "outputs": [
    {
     "data": {
      "text/plain": [
       "MLPClassifier(max_iter=100, random_state=1, tol=1e-05)"
      ]
     },
     "execution_count": 617,
     "metadata": {},
     "output_type": "execute_result"
    }
   ],
   "source": [
    "model2.fit(X_train_s, y_train)"
   ]
  },
  {
   "cell_type": "code",
   "execution_count": 618,
   "metadata": {},
   "outputs": [],
   "source": [
    "pred3=model2.predict(X_test_s)"
   ]
  },
  {
   "cell_type": "code",
   "execution_count": 619,
   "metadata": {},
   "outputs": [
    {
     "data": {
      "text/plain": [
       "0.8142493638676844"
      ]
     },
     "execution_count": 619,
     "metadata": {},
     "output_type": "execute_result"
    }
   ],
   "source": [
    "model2.score(X_train_s , y_train)"
   ]
  },
  {
   "cell_type": "code",
   "execution_count": 620,
   "metadata": {},
   "outputs": [
    {
     "name": "stdout",
     "output_type": "stream",
     "text": [
      "              precision    recall  f1-score   support\n",
      "\n",
      "           0       0.82      1.00      0.90       276\n",
      "           1       1.00      0.02      0.03        62\n",
      "\n",
      "    accuracy                           0.82       338\n",
      "   macro avg       0.91      0.51      0.47       338\n",
      "weighted avg       0.85      0.82      0.74       338\n",
      "\n"
     ]
    }
   ],
   "source": [
    "print (classification_report(y_test, pred3))"
   ]
  },
  {
   "cell_type": "code",
   "execution_count": 625,
   "metadata": {},
   "outputs": [],
   "source": [
    "train_prob = model2.predict(X_train_s)"
   ]
  },
  {
   "cell_type": "code",
   "execution_count": 626,
   "metadata": {},
   "outputs": [
    {
     "name": "stdout",
     "output_type": "stream",
     "text": [
      "              precision    recall  f1-score   support\n",
      "\n",
      "           0       0.81      1.00      0.90       639\n",
      "           1       0.67      0.01      0.03       147\n",
      "\n",
      "    accuracy                           0.81       786\n",
      "   macro avg       0.74      0.51      0.46       786\n",
      "weighted avg       0.79      0.81      0.73       786\n",
      "\n"
     ]
    }
   ],
   "source": [
    "print (classification_report(y_train, train_prob))"
   ]
  },
  {
   "cell_type": "code",
   "execution_count": 627,
   "metadata": {},
   "outputs": [
    {
     "data": {
      "text/plain": [
       "0.8195266272189349"
      ]
     },
     "execution_count": 627,
     "metadata": {},
     "output_type": "execute_result"
    }
   ],
   "source": [
    "model2.score(X_test_s, y_test)"
   ]
  },
  {
   "cell_type": "code",
   "execution_count": 628,
   "metadata": {},
   "outputs": [],
   "source": [
    "z6 = confusion_matrix(y_train, train_prob)"
   ]
  },
  {
   "cell_type": "code",
   "execution_count": 629,
   "metadata": {},
   "outputs": [
    {
     "data": {
      "image/png": "[encoded data removed]",
      "text/plain": [
       "<Figure size 432x288 with 2 Axes>"
      ]
     },
     "metadata": {
      "needs_background": "light"
     },
     "output_type": "display_data"
    }
   ],
   "source": [
    "sns.heatmap(z6, annot = True, cmap= \"winter_r\", fmt='.3g', linecolor='red')\n",
    "plt.xlabel('Predicted Values')\n",
    "plt.ylabel('Actual Values')\n",
    "plt.show()"
   ]
  },
  {
   "cell_type": "code",
   "execution_count": 630,
   "metadata": {},
   "outputs": [
    {
     "data": {
      "text/plain": [
       "0.7416562869279167"
      ]
     },
     "execution_count": 630,
     "metadata": {},
     "output_type": "execute_result"
    },
    {
     "data": {
      "image/png": "[encoded data removed]",
      "text/plain": [
       "<Figure size 432x288 with 1 Axes>"
      ]
     },
     "metadata": {
      "needs_background": "light"
     },
     "output_type": "display_data"
    }
   ],
   "source": [
    "train_prob2=model2.predict_proba(X_train_s)\n",
    "train_prob2=pd.DataFrame(train_prob2)[1]\n",
    "fpr , tpr,_ =roc_curve(y_train , train_prob2)\n",
    "plt.plot(fpr, tpr)\n",
    "plt.plot(np.arange(0,1.1,0.1) , np.arange(0,1.1,0.1))\n",
    "roc_auc_score(y_train , train_prob2)"
   ]
  },
  {
   "cell_type": "code",
   "execution_count": 631,
   "metadata": {},
   "outputs": [],
   "source": [
    "z7 = confusion_matrix(y_test, pred3)"
   ]
  },
  {
   "cell_type": "code",
   "execution_count": 632,
   "metadata": {},
   "outputs": [
    {
     "data": {
      "text/plain": [
       "array([[276,   0],\n",
       "       [ 61,   1]], dtype=int64)"
      ]
     },
     "execution_count": 632,
     "metadata": {},
     "output_type": "execute_result"
    }
   ],
   "source": [
    "z7"
   ]
  },
  {
   "cell_type": "code",
   "execution_count": 633,
   "metadata": {},
   "outputs": [
    {
     "data": {
      "image/png": "[encoded data removed]",
      "text/plain": [
       "<Figure size 432x288 with 2 Axes>"
      ]
     },
     "metadata": {
      "needs_background": "light"
     },
     "output_type": "display_data"
    }
   ],
   "source": [
    "sns.heatmap(z7, annot = True, cmap= \"winter_r\", fmt='.3g', linecolor='red')\n",
    "plt.xlabel('Predicted Values')\n",
    "plt.ylabel('Actual Values')\n",
    "plt.show()"
   ]
  },
  {
   "cell_type": "code",
   "execution_count": 634,
   "metadata": {},
   "outputs": [
    {
     "data": {
      "text/plain": [
       "0.6776531089294062"
      ]
     },
     "execution_count": 634,
     "metadata": {},
     "output_type": "execute_result"
    },
    {
     "data": {
      "image/png": "[encoded data removed]",
      "text/plain": [
       "<Figure size 432x288 with 1 Axes>"
      ]
     },
     "metadata": {
      "needs_background": "light"
     },
     "output_type": "display_data"
    }
   ],
   "source": [
    "test_prob2=model2.predict_proba(X_test_s)\n",
    "test_prob2=pd.DataFrame(test_prob2)[1]\n",
    "fpr2 , tpr2,_ =roc_curve(y_test , test_prob2)\n",
    "plt.plot(fpr2, tpr2)\n",
    "plt.plot(np.arange(0,1.1,0.1) , np.arange(0,1.1,0.1))\n",
    "roc_auc_score(y_test , test_prob2)"
   ]
  },
  {
   "cell_type": "markdown",
   "metadata": {},
   "source": [
    "## Chosen model - CART"
   ]
  },
  {
   "cell_type": "code",
   "execution_count": null,
   "metadata": {},
   "outputs": [],
   "source": [
    "model"
   ]
  },
  {
   "cell_type": "code",
   "execution_count": null,
   "metadata": {},
   "outputs": [],
   "source": [
    "feature_importance1"
   ]
  },
  {
   "cell_type": "code",
   "execution_count": null,
   "metadata": {},
   "outputs": [],
   "source": [
    "feature_importance1=feature_importance1['Importance']"
   ]
  },
  {
   "cell_type": "code",
   "execution_count": null,
   "metadata": {},
   "outputs": [],
   "source": [
    "feature_importance1"
   ]
  },
  {
   "cell_type": "code",
   "execution_count": 515,
   "metadata": {},
   "outputs": [
    {
     "data": {
      "text/plain": [
       "<matplotlib.axes._subplots.AxesSubplot at 0x1c148a38148>"
      ]
     },
     "execution_count": 515,
     "metadata": {},
     "output_type": "execute_result"
    },
    {
     "data": {
      "image/png": "[encoded data removed]",
      "text/plain": [
       "<Figure size 432x288 with 1 Axes>"
      ]
     },
     "metadata": {
      "needs_background": "light"
     },
     "output_type": "display_data"
    }
   ],
   "source": [
    "sns.stripplot( df['outcome'], df['age'])"
   ]
  },
  {
   "cell_type": "code",
   "execution_count": null,
   "metadata": {},
   "outputs": [],
   "source": [
    "sns.set_style('dark')"
   ]
  },
  {
   "cell_type": "code",
   "execution_count": 516,
   "metadata": {},
   "outputs": [
    {
     "data": {
      "text/plain": [
       "<matplotlib.axes._subplots.AxesSubplot at 0x1c148a902c8>"
      ]
     },
     "execution_count": 516,
     "metadata": {},
     "output_type": "execute_result"
    },
    {
     "data": {
      "image/png": "[encoded data removed]",
      "text/plain": [
       "<Figure size 432x288 with 1 Axes>"
      ]
     },
     "metadata": {
      "needs_background": "light"
     },
     "output_type": "display_data"
    }
   ],
   "source": [
    "sns.stripplot(df['outcome'] , df['yronset'])"
   ]
  },
  {
   "cell_type": "code",
   "execution_count": 657,
   "metadata": {},
   "outputs": [
    {
     "data": {
      "text/plain": [
       "<matplotlib.axes._subplots.AxesSubplot at 0x1c1491c52c8>"
      ]
     },
     "execution_count": 657,
     "metadata": {},
     "output_type": "execute_result"
    },
    {
     "data": {
      "image/png": "[encoded data removed]",
      "text/plain": [
       "<Figure size 432x288 with 1 Axes>"
      ]
     },
     "metadata": {
      "needs_background": "light"
     },
     "output_type": "display_data"
    }
   ],
   "source": [
    "sns.barplot(df['outcome'], df['age'] ,  hue = df['smstat'])"
   ]
  },
  {
   "cell_type": "code",
   "execution_count": null,
   "metadata": {},
   "outputs": [],
   "source": []
  }
 ],
 "metadata": {
  "kernelspec": {
   "display_name": "Python 3",
   "language": "python",
   "name": "python3"
  },
  "language_info": {
   "codemirror_mode": {
    "name": "ipython",
    "version": 3
   },
   "file_extension": ".py",
   "mimetype": "text/x-python",
   "name": "python",
   "nbconvert_exporter": "python",
   "pygments_lexer": "ipython3",
   "version": "3.7.6"
  }
 },
 "nbformat": 4,
 "nbformat_minor": 4
}
